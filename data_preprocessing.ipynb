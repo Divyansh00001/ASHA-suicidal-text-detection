from google.colab import drive
drive.mount('/content/drive', force_remount=True)
     
Mounted at /content/drive

!pip install -qqq unidecode contractions pyspellchecker wordninja symspellpy
     

import os
import pandas as pd
import numpy as np
import spacy
import unidecode
import contractions as contract
import re
import wordninja
import collections
import pkg_resources
from spellchecker import SpellChecker 
from symspellpy import SymSpell, Verbosity
     

# Change to your own directory
try:
    os.chdir("/content/drive/MyDrive/BT4222 Project")
    print("Directory changed")
except OSError:
    print("Error: Can't change the Current Working Directory")
     
Directory changed

# Load dataset
df = pd.read_csv('Data/suicide_detection.csv', index_col=0)
df.reset_index(drop=True, inplace=True)
df.head()
     
text	class
0	Ex Wife Threatening SuicideRecently I left my ...	suicide
1	Am I weird I don't get affected by compliments...	non-suicide
2	Finally 2020 is almost over... So I can never ...	non-suicide
3	i need helpjust help me im crying so hard	suicide
4	I’m so lostHello, my name is Adam (16) and I’v...	suicide

# Defining methods

nlp = spacy.load("en_core_web_sm") 
vocab = collections.Counter()
sym_spell = SymSpell(max_dictionary_edit_distance=2, prefix_length=7)
dictionary_path = pkg_resources.resource_filename(
    "symspellpy", "frequency_dictionary_en_82_765.txt")
bigram_path = pkg_resources.resource_filename(
"symspellpy", "frequency_bigramdictionary_en_243_342.txt")
sym_spell.load_dictionary(dictionary_path, term_index=0, count_index=1)
sym_spell.load_bigram_dictionary(bigram_path, term_index=0, count_index=2)

# Spell Check using Symspell
def fix_spelling(text):
    suggestions = sym_spell.lookup_compound(text, max_edit_distance=2)
    correctedtext = suggestions[0].term # get the first suggestion, otherwise returns original text if nothing is corrected 
    return correctedtext 

# Remove some important words from stopwords list 
deselect_stop_words = ['no', 'not']
    
for w in deselect_stop_words:
    nlp.vocab[w].is_stop = False

# Remove extra whitespaces from text
def remove_whitespace(text):
    text = text.strip()
    return " ".join(text.split())

# Remove accented characters from text, e.g. café
def remove_accented_chars(text):
    text = unidecode.unidecode(text)
    return text

# Remove URL 
def remove_url(text):
    return re.sub(r'http\S+', '', text)

# Removing symbols and digits
def remove_symbols_digits(text):
    return re.sub('[^a-zA-Z\s]', ' ', text)

# Removing special characters
def remove_special(text):
    return text.replace("\r", " ").replace("\n", " ").replace("    ", " ").replace('"', '')

# Fix word lengthening (characters are wrongly repeated)
def fix_lengthening(text):
    pattern = re.compile(r"(.)\1{2,}")
    return pattern.sub(r"\1\1", text)

def text_preprocessing(text, accented_chars=True, contractions=True, convert_num=True, 
                       extra_whitespace=True, lemmatization=True, lowercase=True, 
                       url=True, symbols_digits=True, special_chars=True, 
                       stop_words=True, lengthening=True, spelling=True):
    """preprocess text with default option set to true for all steps"""
    if accented_chars == True: # remove accented characters
        text = remove_accented_chars(text)
    if contractions == True: # expand contractions
        text = contract.fix(text)
    if lowercase == True: # convert all characters to lowercase
        text = text.lower()
    if url == True: # remove URLs before removing symbols 
        text = remove_url(text)
    if symbols_digits == True: # remove symbols and digits
        text = remove_symbols_digits(text)
    if special_chars == True: # remove special characters
        text = remove_special(text)
    if extra_whitespace == True: # remove extra whitespaces
        text = remove_whitespace(text)
    if lengthening == True: # fix word lengthening
        text = fix_lengthening(text)
    if spelling == True: # fix spelling
        text = fix_spelling(text)

    doc = nlp(text) # tokenise text

    clean_text = []

    # return text
    
    for token in doc:
        flag = True
        edit = token.text
        # remove stop words
        if stop_words == True and token.is_stop and token.pos_ != 'NUM': 
            flag = False
        # exclude number words
        if convert_num == True and token.pos_ == 'NUM' and flag == True:
            flag = False
        # convert tokens to base form
        elif lemmatization == True and token.lemma_ != "-PRON-" and flag == True:
            edit = token.lemma_
        # append tokens edited and not removed to list 
        if edit != "" and flag == True:
            clean_text.append(edit)        
    return " ".join(clean_text)
     

# Test functions on a subset of 20 rows
df['cleaned_text'] = df['text'][:20].apply(lambda row: text_preprocessing(row))
df[:20]
     
text	class	cleaned_text
0	Ex Wife Threatening SuicideRecently I left my ...	suicide	sex wife threaten suicide recently leave wife ...
1	Am I weird I don't get affected by compliments...	non-suicide	weird not affect compliment come know girl fee...
2	Finally 2020 is almost over... So I can never ...	non-suicide	finally hear bad year swear fucking god annoying
3	i need helpjust help me im crying so hard	suicide	need help help cry hard
4	I’m so lostHello, my name is Adam (16) and I’v...	suicide	lost hello adam struggle year afraid past year...
5	Honetly idkI dont know what im even doing here...	suicide	honestly would not know feel like feel unbeara...
6	[Trigger warning] Excuse for self inflicted bu...	suicide	trigger warning excuse self inflict burn know ...
7	It ends tonight.I can’t do it anymore. \nI quit.	suicide	end tonight not anymore quit
8	Everyone wants to be "edgy" and it's making me...	non-suicide	want edgy make self conscious feel like not st...
9	My life is over at 20 years oldHello all. I am...	suicide	life year old hello year old balding male hair...
10	I took the rest of my sleeping pills and my pa...	suicide	take rest sleep pill painkiller not wait end s...
11	Can you imagine getting old? Me neither.Wrinkl...	suicide	imagine get old wrinkle weight gain hair loss ...
12	Do you think getting hit by a train would be p...	suicide	think get hit train painful gun hard come coun...
13	death, continuedI posted here before and saw s...	suicide	death continue post see interesting ask inform...
14	Been arrested - feeling suicidalEdit	suicide	arrest feel suicidal edit
15	Fuck the verizon smart family app I can’t even...	non-suicide	fuck verizon smart family app not watch porn p...
16	I’m scared. Everything just seems to be gett...	suicide	scare get bad bad young think transgend not su...
17	Well, Im screwed. I locked myself in the schoo...	non-suicide	screw lock school toilet not edit live tell story
18	I'm fucked assignment is due tomorrow and I ha...	non-suicide	fuck assignment tomorrow not start
19	yeaputting a knife to my wrist didn't give me ...	suicide	yea put knife wrist not hesitation like free f...

# Apply preprocessing to all data
df['cleaned_text'] = df['text'].apply(lambda row: text_preprocessing(row))
     

# Export cleaned dataset
df.to_csv('Data/suicide_detection_full_cleaned.csv', index=False)
     
