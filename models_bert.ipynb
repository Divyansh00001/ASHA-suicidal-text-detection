the Notebook
Additional properties are not allowed ('metadata' wa s unexpected) 
Using nbformat v5.8.0 and nbconvert v7.2.7.1
this is the information given for all
