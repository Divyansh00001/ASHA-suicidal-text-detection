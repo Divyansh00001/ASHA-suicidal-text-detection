the Notebook
Additional properties are not allowed ('metadata' was unexpected) 
Using nbformat v5.8.0 and nbconvert v7.2.7
this is the information given
